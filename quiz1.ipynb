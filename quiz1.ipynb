{
 "cells": [
  {
   "cell_type": "markdown",
   "metadata": {},
   "source": [
    "### _Dataset: World University Rankings 2023_"
   ]
  },
  {
   "cell_type": "code",
   "execution_count": 288,
   "metadata": {},
   "outputs": [
    {
     "data": {
      "text/html": [
       "<div>\n",
       "<style scoped>\n",
       "    .dataframe tbody tr th:only-of-type {\n",
       "        vertical-align: middle;\n",
       "    }\n",
       "\n",
       "    .dataframe tbody tr th {\n",
       "        vertical-align: top;\n",
       "    }\n",
       "\n",
       "    .dataframe thead th {\n",
       "        text-align: right;\n",
       "    }\n",
       "</style>\n",
       "<table border=\"1\" class=\"dataframe\">\n",
       "  <thead>\n",
       "    <tr style=\"text-align: right;\">\n",
       "      <th></th>\n",
       "      <th>University Rank</th>\n",
       "      <th>Name of University</th>\n",
       "      <th>Location</th>\n",
       "      <th>No of student</th>\n",
       "      <th>No of student per staff</th>\n",
       "      <th>International Student</th>\n",
       "      <th>Female:Male Ratio</th>\n",
       "      <th>OverAll Score</th>\n",
       "      <th>Teaching Score</th>\n",
       "      <th>Research Score</th>\n",
       "      <th>Citations Score</th>\n",
       "      <th>Industry Income Score</th>\n",
       "      <th>International Outlook Score</th>\n",
       "    </tr>\n",
       "  </thead>\n",
       "  <tbody>\n",
       "    <tr>\n",
       "      <th>0</th>\n",
       "      <td>1</td>\n",
       "      <td>University of Oxford</td>\n",
       "      <td>United Kingdom</td>\n",
       "      <td>20,965</td>\n",
       "      <td>10.6</td>\n",
       "      <td>42%</td>\n",
       "      <td>48 : 52</td>\n",
       "      <td>96.4</td>\n",
       "      <td>92.3</td>\n",
       "      <td>99.7</td>\n",
       "      <td>99.0</td>\n",
       "      <td>74.9</td>\n",
       "      <td>96.2</td>\n",
       "    </tr>\n",
       "    <tr>\n",
       "      <th>1</th>\n",
       "      <td>2</td>\n",
       "      <td>Harvard University</td>\n",
       "      <td>United States</td>\n",
       "      <td>21,887</td>\n",
       "      <td>9.6</td>\n",
       "      <td>25%</td>\n",
       "      <td>50 : 50</td>\n",
       "      <td>95.2</td>\n",
       "      <td>94.8</td>\n",
       "      <td>99.0</td>\n",
       "      <td>99.3</td>\n",
       "      <td>49.5</td>\n",
       "      <td>80.5</td>\n",
       "    </tr>\n",
       "    <tr>\n",
       "      <th>2</th>\n",
       "      <td>3</td>\n",
       "      <td>University of Cambridge</td>\n",
       "      <td>United Kingdom</td>\n",
       "      <td>20,185</td>\n",
       "      <td>11.3</td>\n",
       "      <td>39%</td>\n",
       "      <td>47 : 53</td>\n",
       "      <td>94.8</td>\n",
       "      <td>90.9</td>\n",
       "      <td>99.5</td>\n",
       "      <td>97.0</td>\n",
       "      <td>54.2</td>\n",
       "      <td>95.8</td>\n",
       "    </tr>\n",
       "    <tr>\n",
       "      <th>3</th>\n",
       "      <td>3</td>\n",
       "      <td>Stanford University</td>\n",
       "      <td>United States</td>\n",
       "      <td>16,164</td>\n",
       "      <td>7.1</td>\n",
       "      <td>24%</td>\n",
       "      <td>46 : 54</td>\n",
       "      <td>94.8</td>\n",
       "      <td>94.2</td>\n",
       "      <td>96.7</td>\n",
       "      <td>99.8</td>\n",
       "      <td>65.0</td>\n",
       "      <td>79.8</td>\n",
       "    </tr>\n",
       "    <tr>\n",
       "      <th>4</th>\n",
       "      <td>5</td>\n",
       "      <td>Massachusetts Institute of Technology</td>\n",
       "      <td>United States</td>\n",
       "      <td>11,415</td>\n",
       "      <td>8.2</td>\n",
       "      <td>33%</td>\n",
       "      <td>40 : 60</td>\n",
       "      <td>94.2</td>\n",
       "      <td>90.7</td>\n",
       "      <td>93.6</td>\n",
       "      <td>99.8</td>\n",
       "      <td>90.9</td>\n",
       "      <td>89.3</td>\n",
       "    </tr>\n",
       "  </tbody>\n",
       "</table>\n",
       "</div>"
      ],
      "text/plain": [
       "  University Rank                     Name of University        Location  \\\n",
       "0               1                   University of Oxford  United Kingdom   \n",
       "1               2                     Harvard University   United States   \n",
       "2               3                University of Cambridge  United Kingdom   \n",
       "3               3                    Stanford University   United States   \n",
       "4               5  Massachusetts Institute of Technology   United States   \n",
       "\n",
       "  No of student  No of student per staff International Student  \\\n",
       "0        20,965                     10.6                   42%   \n",
       "1        21,887                      9.6                   25%   \n",
       "2        20,185                     11.3                   39%   \n",
       "3        16,164                      7.1                   24%   \n",
       "4        11,415                      8.2                   33%   \n",
       "\n",
       "  Female:Male Ratio OverAll Score  Teaching Score  Research Score  \\\n",
       "0           48 : 52          96.4            92.3            99.7   \n",
       "1           50 : 50          95.2            94.8            99.0   \n",
       "2           47 : 53          94.8            90.9            99.5   \n",
       "3           46 : 54          94.8            94.2            96.7   \n",
       "4           40 : 60          94.2            90.7            93.6   \n",
       "\n",
       "   Citations Score  Industry Income Score  International Outlook Score  \n",
       "0             99.0                   74.9                         96.2  \n",
       "1             99.3                   49.5                         80.5  \n",
       "2             97.0                   54.2                         95.8  \n",
       "3             99.8                   65.0                         79.8  \n",
       "4             99.8                   90.9                         89.3  "
      ]
     },
     "execution_count": 288,
     "metadata": {},
     "output_type": "execute_result"
    }
   ],
   "source": [
    "import pandas as pd\n",
    "import numpy as np\n",
    "import matplotlib.pyplot as plt\n",
    "import seaborn as sns\n",
    "from sklearn.preprocessing import MinMaxScaler, StandardScaler\n",
    "\n",
    "filepath= './data/World University Rankings 2023.csv'\n",
    "df = pd.read_csv(filepath)\n",
    "df.head()\n"
   ]
  },
  {
   "cell_type": "markdown",
   "metadata": {},
   "source": [
    "- Verificación de cantidad de columnas con datos faltantes\n",
    "\n"
   ]
  },
  {
   "cell_type": "code",
   "execution_count": 289,
   "metadata": {},
   "outputs": [
    {
     "data": {
      "text/plain": [
       "University Rank                  0\n",
       "Name of University             108\n",
       "Location                       294\n",
       "No of student                  132\n",
       "No of student per staff        133\n",
       "International Student          132\n",
       "Female:Male Ratio              213\n",
       "OverAll Score                  542\n",
       "Teaching Score                 542\n",
       "Research Score                 542\n",
       "Citations Score                542\n",
       "Industry Income Score          542\n",
       "International Outlook Score    542\n",
       "dtype: int64"
      ]
     },
     "execution_count": 289,
     "metadata": {},
     "output_type": "execute_result"
    }
   ],
   "source": [
    "df.isnull().sum()"
   ]
  },
  {
   "cell_type": "markdown",
   "metadata": {},
   "source": [
    "- Verificación de tipo de datos por columnas\n",
    "\n"
   ]
  },
  {
   "cell_type": "code",
   "execution_count": 290,
   "metadata": {},
   "outputs": [
    {
     "data": {
      "text/plain": [
       "University Rank                 object\n",
       "Name of University              object\n",
       "Location                        object\n",
       "No of student                   object\n",
       "No of student per staff        float64\n",
       "International Student           object\n",
       "Female:Male Ratio               object\n",
       "OverAll Score                   object\n",
       "Teaching Score                 float64\n",
       "Research Score                 float64\n",
       "Citations Score                float64\n",
       "Industry Income Score          float64\n",
       "International Outlook Score    float64\n",
       "dtype: object"
      ]
     },
     "execution_count": 290,
     "metadata": {},
     "output_type": "execute_result"
    }
   ],
   "source": [
    "df.dtypes"
   ]
  },
  {
   "cell_type": "markdown",
   "metadata": {},
   "source": [
    "- Contamos la cantidad de valores en nuestro dataset\n",
    "\n"
   ]
  },
  {
   "cell_type": "code",
   "execution_count": 291,
   "metadata": {},
   "outputs": [
    {
     "data": {
      "text/plain": [
       "<bound method DataFrame.value_counts of      University Rank                     Name of University        Location  \\\n",
       "0                  1                   University of Oxford  United Kingdom   \n",
       "1                  2                     Harvard University   United States   \n",
       "2                  3                University of Cambridge  United Kingdom   \n",
       "3                  3                    Stanford University   United States   \n",
       "4                  5  Massachusetts Institute of Technology   United States   \n",
       "...              ...                                    ...             ...   \n",
       "2336               -     University of the West of Scotland             NaN   \n",
       "2337               -                  University of Windsor             NaN   \n",
       "2338               -            University of Wolverhampton             NaN   \n",
       "2339               -                University of Wuppertal             NaN   \n",
       "2340               -    Xi’an Jiaotong-Liverpool University             NaN   \n",
       "\n",
       "     No of student  No of student per staff International Student  \\\n",
       "0           20,965                     10.6                   42%   \n",
       "1           21,887                      9.6                   25%   \n",
       "2           20,185                     11.3                   39%   \n",
       "3           16,164                      7.1                   24%   \n",
       "4           11,415                      8.2                   33%   \n",
       "...            ...                      ...                   ...   \n",
       "2336           NaN                      NaN                   NaN   \n",
       "2337           NaN                      NaN                   NaN   \n",
       "2338           NaN                      NaN                   NaN   \n",
       "2339           NaN                      NaN                   NaN   \n",
       "2340           NaN                      NaN                   NaN   \n",
       "\n",
       "     Female:Male Ratio OverAll Score  Teaching Score  Research Score  \\\n",
       "0              48 : 52          96.4            92.3            99.7   \n",
       "1              50 : 50          95.2            94.8            99.0   \n",
       "2              47 : 53          94.8            90.9            99.5   \n",
       "3              46 : 54          94.8            94.2            96.7   \n",
       "4              40 : 60          94.2            90.7            93.6   \n",
       "...                ...           ...             ...             ...   \n",
       "2336               NaN     34.0–39.2            24.1            15.5   \n",
       "2337               NaN     34.0–39.2            35.1            29.4   \n",
       "2338               NaN     34.0–39.2            18.2            14.3   \n",
       "2339               NaN     34.0–39.2            26.4            26.7   \n",
       "2340               NaN     34.0–39.2            17.8            14.8   \n",
       "\n",
       "      Citations Score  Industry Income Score  International Outlook Score  \n",
       "0                99.0                   74.9                         96.2  \n",
       "1                99.3                   49.5                         80.5  \n",
       "2                97.0                   54.2                         95.8  \n",
       "3                99.8                   65.0                         79.8  \n",
       "4                99.8                   90.9                         89.3  \n",
       "...               ...                    ...                          ...  \n",
       "2336             61.5                   37.9                         76.8  \n",
       "2337             34.5                   44.2                         88.7  \n",
       "2338             68.8                   37.3                         72.0  \n",
       "2339             52.8                   52.1                         47.6  \n",
       "2340             68.2                   38.2                         72.4  \n",
       "\n",
       "[2341 rows x 13 columns]>"
      ]
     },
     "execution_count": 291,
     "metadata": {},
     "output_type": "execute_result"
    }
   ],
   "source": [
    "df.value_counts"
   ]
  },
  {
   "cell_type": "markdown",
   "metadata": {},
   "source": [
    "- Para mayor facilidad adecuamos los nombres de las columnas\n",
    "\n"
   ]
  },
  {
   "cell_type": "code",
   "execution_count": 292,
   "metadata": {},
   "outputs": [],
   "source": [
    "cols = {\n",
    "    'Uni_rank': 'University Rank',\n",
    "    'Uni_name': 'Name of University',\n",
    "    'loc': 'Location',\n",
    "    'Nstudents': 'No of student',\n",
    "    'Nstudents_staff': 'No of student per staff',\n",
    "    'inter_students_p': 'International Student',\n",
    "    'male_fem_ratio': 'Female:Male Ratio',\n",
    "    'overall_score_p': 'OverAll Score',\n",
    "    'teaching_score': 'Teaching Score',\n",
    "    'research_score': 'Research Score',\n",
    "    'citation_score': 'Citations Score',\n",
    "    'industry_score': 'Industry Income Score',\n",
    "    'inter_score': 'International Outlook Score'\n",
    "}\n"
   ]
  },
  {
   "cell_type": "markdown",
   "metadata": {},
   "source": [
    "- Tomaremos las ubiucaciones y les asignaremos un número a cada una, esto para poder hacer los respectivos cálculos en función de la media más adelante\n",
    "\n"
   ]
  },
  {
   "cell_type": "code",
   "execution_count": 293,
   "metadata": {},
   "outputs": [
    {
     "data": {
      "text/html": [
       "<div>\n",
       "<style scoped>\n",
       "    .dataframe tbody tr th:only-of-type {\n",
       "        vertical-align: middle;\n",
       "    }\n",
       "\n",
       "    .dataframe tbody tr th {\n",
       "        vertical-align: top;\n",
       "    }\n",
       "\n",
       "    .dataframe thead th {\n",
       "        text-align: right;\n",
       "    }\n",
       "</style>\n",
       "<table border=\"1\" class=\"dataframe\">\n",
       "  <thead>\n",
       "    <tr style=\"text-align: right;\">\n",
       "      <th></th>\n",
       "      <th>University Rank</th>\n",
       "      <th>Name of University</th>\n",
       "      <th>Location</th>\n",
       "      <th>No of student</th>\n",
       "      <th>No of student per staff</th>\n",
       "      <th>International Student</th>\n",
       "      <th>Female:Male Ratio</th>\n",
       "      <th>OverAll Score</th>\n",
       "      <th>Teaching Score</th>\n",
       "      <th>Research Score</th>\n",
       "      <th>Citations Score</th>\n",
       "      <th>Industry Income Score</th>\n",
       "      <th>International Outlook Score</th>\n",
       "    </tr>\n",
       "  </thead>\n",
       "  <tbody>\n",
       "    <tr>\n",
       "      <th>0</th>\n",
       "      <td>1</td>\n",
       "      <td>University of Oxford</td>\n",
       "      <td>1</td>\n",
       "      <td>20,965</td>\n",
       "      <td>10.6</td>\n",
       "      <td>42%</td>\n",
       "      <td>48 : 52</td>\n",
       "      <td>96.4</td>\n",
       "      <td>92.3</td>\n",
       "      <td>99.7</td>\n",
       "      <td>99.0</td>\n",
       "      <td>74.9</td>\n",
       "      <td>96.2</td>\n",
       "    </tr>\n",
       "    <tr>\n",
       "      <th>1</th>\n",
       "      <td>2</td>\n",
       "      <td>Harvard University</td>\n",
       "      <td>2</td>\n",
       "      <td>21,887</td>\n",
       "      <td>9.6</td>\n",
       "      <td>25%</td>\n",
       "      <td>50 : 50</td>\n",
       "      <td>95.2</td>\n",
       "      <td>94.8</td>\n",
       "      <td>99.0</td>\n",
       "      <td>99.3</td>\n",
       "      <td>49.5</td>\n",
       "      <td>80.5</td>\n",
       "    </tr>\n",
       "    <tr>\n",
       "      <th>2</th>\n",
       "      <td>3</td>\n",
       "      <td>University of Cambridge</td>\n",
       "      <td>1</td>\n",
       "      <td>20,185</td>\n",
       "      <td>11.3</td>\n",
       "      <td>39%</td>\n",
       "      <td>47 : 53</td>\n",
       "      <td>94.8</td>\n",
       "      <td>90.9</td>\n",
       "      <td>99.5</td>\n",
       "      <td>97.0</td>\n",
       "      <td>54.2</td>\n",
       "      <td>95.8</td>\n",
       "    </tr>\n",
       "    <tr>\n",
       "      <th>3</th>\n",
       "      <td>3</td>\n",
       "      <td>Stanford University</td>\n",
       "      <td>2</td>\n",
       "      <td>16,164</td>\n",
       "      <td>7.1</td>\n",
       "      <td>24%</td>\n",
       "      <td>46 : 54</td>\n",
       "      <td>94.8</td>\n",
       "      <td>94.2</td>\n",
       "      <td>96.7</td>\n",
       "      <td>99.8</td>\n",
       "      <td>65.0</td>\n",
       "      <td>79.8</td>\n",
       "    </tr>\n",
       "    <tr>\n",
       "      <th>4</th>\n",
       "      <td>5</td>\n",
       "      <td>Massachusetts Institute of Technology</td>\n",
       "      <td>2</td>\n",
       "      <td>11,415</td>\n",
       "      <td>8.2</td>\n",
       "      <td>33%</td>\n",
       "      <td>40 : 60</td>\n",
       "      <td>94.2</td>\n",
       "      <td>90.7</td>\n",
       "      <td>93.6</td>\n",
       "      <td>99.8</td>\n",
       "      <td>90.9</td>\n",
       "      <td>89.3</td>\n",
       "    </tr>\n",
       "  </tbody>\n",
       "</table>\n",
       "</div>"
      ],
      "text/plain": [
       "  University Rank                     Name of University  Location  \\\n",
       "0               1                   University of Oxford         1   \n",
       "1               2                     Harvard University         2   \n",
       "2               3                University of Cambridge         1   \n",
       "3               3                    Stanford University         2   \n",
       "4               5  Massachusetts Institute of Technology         2   \n",
       "\n",
       "  No of student  No of student per staff International Student  \\\n",
       "0        20,965                     10.6                   42%   \n",
       "1        21,887                      9.6                   25%   \n",
       "2        20,185                     11.3                   39%   \n",
       "3        16,164                      7.1                   24%   \n",
       "4        11,415                      8.2                   33%   \n",
       "\n",
       "  Female:Male Ratio OverAll Score  Teaching Score  Research Score  \\\n",
       "0           48 : 52          96.4            92.3            99.7   \n",
       "1           50 : 50          95.2            94.8            99.0   \n",
       "2           47 : 53          94.8            90.9            99.5   \n",
       "3           46 : 54          94.8            94.2            96.7   \n",
       "4           40 : 60          94.2            90.7            93.6   \n",
       "\n",
       "   Citations Score  Industry Income Score  International Outlook Score  \n",
       "0             99.0                   74.9                         96.2  \n",
       "1             99.3                   49.5                         80.5  \n",
       "2             97.0                   54.2                         95.8  \n",
       "3             99.8                   65.0                         79.8  \n",
       "4             99.8                   90.9                         89.3  "
      ]
     },
     "execution_count": 293,
     "metadata": {},
     "output_type": "execute_result"
    }
   ],
   "source": [
    "loc_map = {}\n",
    "df[cols['loc']] = df[cols['loc']].map(lambda loc: loc_map.setdefault(loc, len(loc_map) + 1))\n",
    "df.head()\n"
   ]
  },
  {
   "cell_type": "markdown",
   "metadata": {},
   "source": [
    "- Convertimos a valor númerico entero al No of students per staff y procedemos a hacer una Standardization para poder rellenar los valores faltantes de la columna misma\n",
    "\n"
   ]
  },
  {
   "cell_type": "code",
   "execution_count": 294,
   "metadata": {},
   "outputs": [
    {
     "data": {
      "text/html": [
       "<div>\n",
       "<style scoped>\n",
       "    .dataframe tbody tr th:only-of-type {\n",
       "        vertical-align: middle;\n",
       "    }\n",
       "\n",
       "    .dataframe tbody tr th {\n",
       "        vertical-align: top;\n",
       "    }\n",
       "\n",
       "    .dataframe thead th {\n",
       "        text-align: right;\n",
       "    }\n",
       "</style>\n",
       "<table border=\"1\" class=\"dataframe\">\n",
       "  <thead>\n",
       "    <tr style=\"text-align: right;\">\n",
       "      <th></th>\n",
       "      <th>University Rank</th>\n",
       "      <th>Name of University</th>\n",
       "      <th>Location</th>\n",
       "      <th>No of student</th>\n",
       "      <th>No of student per staff</th>\n",
       "      <th>International Student</th>\n",
       "      <th>Female:Male Ratio</th>\n",
       "      <th>OverAll Score</th>\n",
       "      <th>Teaching Score</th>\n",
       "      <th>Research Score</th>\n",
       "      <th>Citations Score</th>\n",
       "      <th>Industry Income Score</th>\n",
       "      <th>International Outlook Score</th>\n",
       "    </tr>\n",
       "  </thead>\n",
       "  <tbody>\n",
       "    <tr>\n",
       "      <th>0</th>\n",
       "      <td>1</td>\n",
       "      <td>University of Oxford</td>\n",
       "      <td>1</td>\n",
       "      <td>20,965</td>\n",
       "      <td>-0.712963</td>\n",
       "      <td>42%</td>\n",
       "      <td>48 : 52</td>\n",
       "      <td>96.4</td>\n",
       "      <td>92.3</td>\n",
       "      <td>99.7</td>\n",
       "      <td>99.0</td>\n",
       "      <td>74.9</td>\n",
       "      <td>96.2</td>\n",
       "    </tr>\n",
       "    <tr>\n",
       "      <th>1</th>\n",
       "      <td>2</td>\n",
       "      <td>Harvard University</td>\n",
       "      <td>2</td>\n",
       "      <td>21,887</td>\n",
       "      <td>-0.797835</td>\n",
       "      <td>25%</td>\n",
       "      <td>50 : 50</td>\n",
       "      <td>95.2</td>\n",
       "      <td>94.8</td>\n",
       "      <td>99.0</td>\n",
       "      <td>99.3</td>\n",
       "      <td>49.5</td>\n",
       "      <td>80.5</td>\n",
       "    </tr>\n",
       "    <tr>\n",
       "      <th>2</th>\n",
       "      <td>3</td>\n",
       "      <td>University of Cambridge</td>\n",
       "      <td>1</td>\n",
       "      <td>20,185</td>\n",
       "      <td>-0.653552</td>\n",
       "      <td>39%</td>\n",
       "      <td>47 : 53</td>\n",
       "      <td>94.8</td>\n",
       "      <td>90.9</td>\n",
       "      <td>99.5</td>\n",
       "      <td>97.0</td>\n",
       "      <td>54.2</td>\n",
       "      <td>95.8</td>\n",
       "    </tr>\n",
       "    <tr>\n",
       "      <th>3</th>\n",
       "      <td>3</td>\n",
       "      <td>Stanford University</td>\n",
       "      <td>2</td>\n",
       "      <td>16,164</td>\n",
       "      <td>-1.010016</td>\n",
       "      <td>24%</td>\n",
       "      <td>46 : 54</td>\n",
       "      <td>94.8</td>\n",
       "      <td>94.2</td>\n",
       "      <td>96.7</td>\n",
       "      <td>99.8</td>\n",
       "      <td>65.0</td>\n",
       "      <td>79.8</td>\n",
       "    </tr>\n",
       "    <tr>\n",
       "      <th>4</th>\n",
       "      <td>5</td>\n",
       "      <td>Massachusetts Institute of Technology</td>\n",
       "      <td>2</td>\n",
       "      <td>11,415</td>\n",
       "      <td>-0.916656</td>\n",
       "      <td>33%</td>\n",
       "      <td>40 : 60</td>\n",
       "      <td>94.2</td>\n",
       "      <td>90.7</td>\n",
       "      <td>93.6</td>\n",
       "      <td>99.8</td>\n",
       "      <td>90.9</td>\n",
       "      <td>89.3</td>\n",
       "    </tr>\n",
       "  </tbody>\n",
       "</table>\n",
       "</div>"
      ],
      "text/plain": [
       "  University Rank                     Name of University  Location  \\\n",
       "0               1                   University of Oxford         1   \n",
       "1               2                     Harvard University         2   \n",
       "2               3                University of Cambridge         1   \n",
       "3               3                    Stanford University         2   \n",
       "4               5  Massachusetts Institute of Technology         2   \n",
       "\n",
       "  No of student  No of student per staff International Student  \\\n",
       "0        20,965                -0.712963                   42%   \n",
       "1        21,887                -0.797835                   25%   \n",
       "2        20,185                -0.653552                   39%   \n",
       "3        16,164                -1.010016                   24%   \n",
       "4        11,415                -0.916656                   33%   \n",
       "\n",
       "  Female:Male Ratio OverAll Score  Teaching Score  Research Score  \\\n",
       "0           48 : 52          96.4            92.3            99.7   \n",
       "1           50 : 50          95.2            94.8            99.0   \n",
       "2           47 : 53          94.8            90.9            99.5   \n",
       "3           46 : 54          94.8            94.2            96.7   \n",
       "4           40 : 60          94.2            90.7            93.6   \n",
       "\n",
       "   Citations Score  Industry Income Score  International Outlook Score  \n",
       "0             99.0                   74.9                         96.2  \n",
       "1             99.3                   49.5                         80.5  \n",
       "2             97.0                   54.2                         95.8  \n",
       "3             99.8                   65.0                         79.8  \n",
       "4             99.8                   90.9                         89.3  "
      ]
     },
     "execution_count": 294,
     "metadata": {},
     "output_type": "execute_result"
    }
   ],
   "source": [
    "df[cols['Nstudents_staff']] = pd.to_numeric(df[cols['Nstudents_staff']], errors='coerce')\n",
    "df[cols['Nstudents_staff']] = df[cols['Nstudents_staff']].fillna(df[cols['Nstudents_staff']].mean())\n",
    "df[cols['Nstudents_staff']] = (df[cols['Nstudents_staff']] - df[cols['Nstudents_staff']].mean()) / df[cols['Nstudents_staff']].std()\n",
    "df.head()\n"
   ]
  },
  {
   "cell_type": "markdown",
   "metadata": {},
   "source": [
    "- Convertimos a valor númerico entero al No of students y procedemos a hacer una Standardization para poder rellenar los valores faltantes de la columna misma\n",
    "\n"
   ]
  },
  {
   "cell_type": "code",
   "execution_count": 295,
   "metadata": {},
   "outputs": [
    {
     "data": {
      "text/html": [
       "<div>\n",
       "<style scoped>\n",
       "    .dataframe tbody tr th:only-of-type {\n",
       "        vertical-align: middle;\n",
       "    }\n",
       "\n",
       "    .dataframe tbody tr th {\n",
       "        vertical-align: top;\n",
       "    }\n",
       "\n",
       "    .dataframe thead th {\n",
       "        text-align: right;\n",
       "    }\n",
       "</style>\n",
       "<table border=\"1\" class=\"dataframe\">\n",
       "  <thead>\n",
       "    <tr style=\"text-align: right;\">\n",
       "      <th></th>\n",
       "      <th>University Rank</th>\n",
       "      <th>Name of University</th>\n",
       "      <th>Location</th>\n",
       "      <th>No of student</th>\n",
       "      <th>No of student per staff</th>\n",
       "      <th>International Student</th>\n",
       "      <th>Female:Male Ratio</th>\n",
       "      <th>OverAll Score</th>\n",
       "      <th>Teaching Score</th>\n",
       "      <th>Research Score</th>\n",
       "      <th>Citations Score</th>\n",
       "      <th>Industry Income Score</th>\n",
       "      <th>International Outlook Score</th>\n",
       "    </tr>\n",
       "  </thead>\n",
       "  <tbody>\n",
       "    <tr>\n",
       "      <th>0</th>\n",
       "      <td>1</td>\n",
       "      <td>University of Oxford</td>\n",
       "      <td>1</td>\n",
       "      <td>0.067255</td>\n",
       "      <td>-0.712963</td>\n",
       "      <td>42%</td>\n",
       "      <td>48 : 52</td>\n",
       "      <td>96.4</td>\n",
       "      <td>92.3</td>\n",
       "      <td>99.7</td>\n",
       "      <td>99.0</td>\n",
       "      <td>74.9</td>\n",
       "      <td>96.2</td>\n",
       "    </tr>\n",
       "    <tr>\n",
       "      <th>1</th>\n",
       "      <td>2</td>\n",
       "      <td>Harvard University</td>\n",
       "      <td>2</td>\n",
       "      <td>0.104885</td>\n",
       "      <td>-0.797835</td>\n",
       "      <td>25%</td>\n",
       "      <td>50 : 50</td>\n",
       "      <td>95.2</td>\n",
       "      <td>94.8</td>\n",
       "      <td>99.0</td>\n",
       "      <td>99.3</td>\n",
       "      <td>49.5</td>\n",
       "      <td>80.5</td>\n",
       "    </tr>\n",
       "    <tr>\n",
       "      <th>2</th>\n",
       "      <td>3</td>\n",
       "      <td>University of Cambridge</td>\n",
       "      <td>1</td>\n",
       "      <td>0.035421</td>\n",
       "      <td>-0.653552</td>\n",
       "      <td>39%</td>\n",
       "      <td>47 : 53</td>\n",
       "      <td>94.8</td>\n",
       "      <td>90.9</td>\n",
       "      <td>99.5</td>\n",
       "      <td>97.0</td>\n",
       "      <td>54.2</td>\n",
       "      <td>95.8</td>\n",
       "    </tr>\n",
       "    <tr>\n",
       "      <th>3</th>\n",
       "      <td>3</td>\n",
       "      <td>Stanford University</td>\n",
       "      <td>2</td>\n",
       "      <td>-0.128691</td>\n",
       "      <td>-1.010016</td>\n",
       "      <td>24%</td>\n",
       "      <td>46 : 54</td>\n",
       "      <td>94.8</td>\n",
       "      <td>94.2</td>\n",
       "      <td>96.7</td>\n",
       "      <td>99.8</td>\n",
       "      <td>65.0</td>\n",
       "      <td>79.8</td>\n",
       "    </tr>\n",
       "    <tr>\n",
       "      <th>4</th>\n",
       "      <td>5</td>\n",
       "      <td>Massachusetts Institute of Technology</td>\n",
       "      <td>2</td>\n",
       "      <td>-0.322514</td>\n",
       "      <td>-0.916656</td>\n",
       "      <td>33%</td>\n",
       "      <td>40 : 60</td>\n",
       "      <td>94.2</td>\n",
       "      <td>90.7</td>\n",
       "      <td>93.6</td>\n",
       "      <td>99.8</td>\n",
       "      <td>90.9</td>\n",
       "      <td>89.3</td>\n",
       "    </tr>\n",
       "  </tbody>\n",
       "</table>\n",
       "</div>"
      ],
      "text/plain": [
       "  University Rank                     Name of University  Location  \\\n",
       "0               1                   University of Oxford         1   \n",
       "1               2                     Harvard University         2   \n",
       "2               3                University of Cambridge         1   \n",
       "3               3                    Stanford University         2   \n",
       "4               5  Massachusetts Institute of Technology         2   \n",
       "\n",
       "   No of student  No of student per staff International Student  \\\n",
       "0       0.067255                -0.712963                   42%   \n",
       "1       0.104885                -0.797835                   25%   \n",
       "2       0.035421                -0.653552                   39%   \n",
       "3      -0.128691                -1.010016                   24%   \n",
       "4      -0.322514                -0.916656                   33%   \n",
       "\n",
       "  Female:Male Ratio OverAll Score  Teaching Score  Research Score  \\\n",
       "0           48 : 52          96.4            92.3            99.7   \n",
       "1           50 : 50          95.2            94.8            99.0   \n",
       "2           47 : 53          94.8            90.9            99.5   \n",
       "3           46 : 54          94.8            94.2            96.7   \n",
       "4           40 : 60          94.2            90.7            93.6   \n",
       "\n",
       "   Citations Score  Industry Income Score  International Outlook Score  \n",
       "0             99.0                   74.9                         96.2  \n",
       "1             99.3                   49.5                         80.5  \n",
       "2             97.0                   54.2                         95.8  \n",
       "3             99.8                   65.0                         79.8  \n",
       "4             99.8                   90.9                         89.3  "
      ]
     },
     "execution_count": 295,
     "metadata": {},
     "output_type": "execute_result"
    }
   ],
   "source": [
    "# Asegurarse de que la columna es de tipo cadena y luego eliminar caracteres no numéricos\n",
    "df[cols['Nstudents']] = df[cols['Nstudents']].astype(str).str.replace(',', '').str.replace(' ', '').str.replace('%', '')\n",
    "# Convertir a float\n",
    "df[cols['Nstudents']] = pd.to_numeric(df[cols['Nstudents']], errors='coerce')\n",
    "df[cols['Nstudents']] = df[cols['Nstudents']].fillna(df[cols['Nstudents']].median())\n",
    "df[cols['Nstudents']] = (df[cols['Nstudents']] - df[cols['Nstudents']].mean()) / df[cols['Nstudents']].std()\n",
    "df.head()\n"
   ]
  },
  {
   "cell_type": "markdown",
   "metadata": {},
   "source": [
    "- Convertimos a valor númerico entero al porcentaje de International Student y procedemos a hacer una Standardization para poder rellenar los valores faltantes de la columna misma\n",
    "\n"
   ]
  },
  {
   "cell_type": "code",
   "execution_count": 296,
   "metadata": {},
   "outputs": [
    {
     "data": {
      "text/html": [
       "<div>\n",
       "<style scoped>\n",
       "    .dataframe tbody tr th:only-of-type {\n",
       "        vertical-align: middle;\n",
       "    }\n",
       "\n",
       "    .dataframe tbody tr th {\n",
       "        vertical-align: top;\n",
       "    }\n",
       "\n",
       "    .dataframe thead th {\n",
       "        text-align: right;\n",
       "    }\n",
       "</style>\n",
       "<table border=\"1\" class=\"dataframe\">\n",
       "  <thead>\n",
       "    <tr style=\"text-align: right;\">\n",
       "      <th></th>\n",
       "      <th>University Rank</th>\n",
       "      <th>Name of University</th>\n",
       "      <th>Location</th>\n",
       "      <th>No of student</th>\n",
       "      <th>No of student per staff</th>\n",
       "      <th>International Student</th>\n",
       "      <th>Female:Male Ratio</th>\n",
       "      <th>OverAll Score</th>\n",
       "      <th>Teaching Score</th>\n",
       "      <th>Research Score</th>\n",
       "      <th>Citations Score</th>\n",
       "      <th>Industry Income Score</th>\n",
       "      <th>International Outlook Score</th>\n",
       "    </tr>\n",
       "  </thead>\n",
       "  <tbody>\n",
       "    <tr>\n",
       "      <th>0</th>\n",
       "      <td>1</td>\n",
       "      <td>University of Oxford</td>\n",
       "      <td>1</td>\n",
       "      <td>0.067255</td>\n",
       "      <td>-0.712963</td>\n",
       "      <td>2.460077</td>\n",
       "      <td>48 : 52</td>\n",
       "      <td>96.4</td>\n",
       "      <td>92.3</td>\n",
       "      <td>99.7</td>\n",
       "      <td>99.0</td>\n",
       "      <td>74.9</td>\n",
       "      <td>96.2</td>\n",
       "    </tr>\n",
       "    <tr>\n",
       "      <th>1</th>\n",
       "      <td>2</td>\n",
       "      <td>Harvard University</td>\n",
       "      <td>2</td>\n",
       "      <td>0.104885</td>\n",
       "      <td>-0.797835</td>\n",
       "      <td>1.160033</td>\n",
       "      <td>50 : 50</td>\n",
       "      <td>95.2</td>\n",
       "      <td>94.8</td>\n",
       "      <td>99.0</td>\n",
       "      <td>99.3</td>\n",
       "      <td>49.5</td>\n",
       "      <td>80.5</td>\n",
       "    </tr>\n",
       "    <tr>\n",
       "      <th>2</th>\n",
       "      <td>3</td>\n",
       "      <td>University of Cambridge</td>\n",
       "      <td>1</td>\n",
       "      <td>0.035421</td>\n",
       "      <td>-0.653552</td>\n",
       "      <td>2.230657</td>\n",
       "      <td>47 : 53</td>\n",
       "      <td>94.8</td>\n",
       "      <td>90.9</td>\n",
       "      <td>99.5</td>\n",
       "      <td>97.0</td>\n",
       "      <td>54.2</td>\n",
       "      <td>95.8</td>\n",
       "    </tr>\n",
       "    <tr>\n",
       "      <th>3</th>\n",
       "      <td>3</td>\n",
       "      <td>Stanford University</td>\n",
       "      <td>2</td>\n",
       "      <td>-0.128691</td>\n",
       "      <td>-1.010016</td>\n",
       "      <td>1.083560</td>\n",
       "      <td>46 : 54</td>\n",
       "      <td>94.8</td>\n",
       "      <td>94.2</td>\n",
       "      <td>96.7</td>\n",
       "      <td>99.8</td>\n",
       "      <td>65.0</td>\n",
       "      <td>79.8</td>\n",
       "    </tr>\n",
       "    <tr>\n",
       "      <th>4</th>\n",
       "      <td>5</td>\n",
       "      <td>Massachusetts Institute of Technology</td>\n",
       "      <td>2</td>\n",
       "      <td>-0.322514</td>\n",
       "      <td>-0.916656</td>\n",
       "      <td>1.771819</td>\n",
       "      <td>40 : 60</td>\n",
       "      <td>94.2</td>\n",
       "      <td>90.7</td>\n",
       "      <td>93.6</td>\n",
       "      <td>99.8</td>\n",
       "      <td>90.9</td>\n",
       "      <td>89.3</td>\n",
       "    </tr>\n",
       "  </tbody>\n",
       "</table>\n",
       "</div>"
      ],
      "text/plain": [
       "  University Rank                     Name of University  Location  \\\n",
       "0               1                   University of Oxford         1   \n",
       "1               2                     Harvard University         2   \n",
       "2               3                University of Cambridge         1   \n",
       "3               3                    Stanford University         2   \n",
       "4               5  Massachusetts Institute of Technology         2   \n",
       "\n",
       "   No of student  No of student per staff  International Student  \\\n",
       "0       0.067255                -0.712963               2.460077   \n",
       "1       0.104885                -0.797835               1.160033   \n",
       "2       0.035421                -0.653552               2.230657   \n",
       "3      -0.128691                -1.010016               1.083560   \n",
       "4      -0.322514                -0.916656               1.771819   \n",
       "\n",
       "  Female:Male Ratio OverAll Score  Teaching Score  Research Score  \\\n",
       "0           48 : 52          96.4            92.3            99.7   \n",
       "1           50 : 50          95.2            94.8            99.0   \n",
       "2           47 : 53          94.8            90.9            99.5   \n",
       "3           46 : 54          94.8            94.2            96.7   \n",
       "4           40 : 60          94.2            90.7            93.6   \n",
       "\n",
       "   Citations Score  Industry Income Score  International Outlook Score  \n",
       "0             99.0                   74.9                         96.2  \n",
       "1             99.3                   49.5                         80.5  \n",
       "2             97.0                   54.2                         95.8  \n",
       "3             99.8                   65.0                         79.8  \n",
       "4             99.8                   90.9                         89.3  "
      ]
     },
     "execution_count": 296,
     "metadata": {},
     "output_type": "execute_result"
    }
   ],
   "source": [
    "\n",
    "if df[cols['inter_students_p']].dtype != 'object':\n",
    "    df[cols['inter_students_p']] = df[cols['inter_students_p']].astype(str)\n",
    "    \n",
    "df[cols['inter_students_p']] = df[cols['inter_students_p']].str.replace(',', '', regex=True).str.replace(' ', '', regex=True).str.replace('%', '', regex=True)\n",
    "df[cols['inter_students_p']] = pd.to_numeric(df[cols['inter_students_p']], errors='coerce')\n",
    "df[cols['inter_students_p']] = df[cols['inter_students_p']].fillna(df[cols['inter_students_p']].median())\n",
    "df[cols['inter_students_p']] = (df[cols['inter_students_p']] - df[cols['inter_students_p']].mean()) / df[cols['inter_students_p']].std()\n",
    "\n",
    "df.head()"
   ]
  },
  {
   "cell_type": "markdown",
   "metadata": {},
   "source": [
    "- Convertimos a valor númerico entero y separamos el Female:Male Ratio  y procedemos a hacer una proporción de los mismos\n",
    "\n"
   ]
  },
  {
   "cell_type": "code",
   "execution_count": 297,
   "metadata": {},
   "outputs": [
    {
     "data": {
      "text/html": [
       "<div>\n",
       "<style scoped>\n",
       "    .dataframe tbody tr th:only-of-type {\n",
       "        vertical-align: middle;\n",
       "    }\n",
       "\n",
       "    .dataframe tbody tr th {\n",
       "        vertical-align: top;\n",
       "    }\n",
       "\n",
       "    .dataframe thead th {\n",
       "        text-align: right;\n",
       "    }\n",
       "</style>\n",
       "<table border=\"1\" class=\"dataframe\">\n",
       "  <thead>\n",
       "    <tr style=\"text-align: right;\">\n",
       "      <th></th>\n",
       "      <th>University Rank</th>\n",
       "      <th>Name of University</th>\n",
       "      <th>Location</th>\n",
       "      <th>No of student</th>\n",
       "      <th>No of student per staff</th>\n",
       "      <th>International Student</th>\n",
       "      <th>Female:Male Ratio</th>\n",
       "      <th>OverAll Score</th>\n",
       "      <th>Teaching Score</th>\n",
       "      <th>Research Score</th>\n",
       "      <th>Citations Score</th>\n",
       "      <th>Industry Income Score</th>\n",
       "      <th>International Outlook Score</th>\n",
       "    </tr>\n",
       "  </thead>\n",
       "  <tbody>\n",
       "    <tr>\n",
       "      <th>0</th>\n",
       "      <td>1</td>\n",
       "      <td>University of Oxford</td>\n",
       "      <td>1</td>\n",
       "      <td>0.067255</td>\n",
       "      <td>-0.712963</td>\n",
       "      <td>2.460077</td>\n",
       "      <td>0.923077</td>\n",
       "      <td>96.4</td>\n",
       "      <td>92.3</td>\n",
       "      <td>99.7</td>\n",
       "      <td>99.0</td>\n",
       "      <td>74.9</td>\n",
       "      <td>96.2</td>\n",
       "    </tr>\n",
       "    <tr>\n",
       "      <th>1</th>\n",
       "      <td>2</td>\n",
       "      <td>Harvard University</td>\n",
       "      <td>2</td>\n",
       "      <td>0.104885</td>\n",
       "      <td>-0.797835</td>\n",
       "      <td>1.160033</td>\n",
       "      <td>1.000000</td>\n",
       "      <td>95.2</td>\n",
       "      <td>94.8</td>\n",
       "      <td>99.0</td>\n",
       "      <td>99.3</td>\n",
       "      <td>49.5</td>\n",
       "      <td>80.5</td>\n",
       "    </tr>\n",
       "    <tr>\n",
       "      <th>2</th>\n",
       "      <td>3</td>\n",
       "      <td>University of Cambridge</td>\n",
       "      <td>1</td>\n",
       "      <td>0.035421</td>\n",
       "      <td>-0.653552</td>\n",
       "      <td>2.230657</td>\n",
       "      <td>0.886792</td>\n",
       "      <td>94.8</td>\n",
       "      <td>90.9</td>\n",
       "      <td>99.5</td>\n",
       "      <td>97.0</td>\n",
       "      <td>54.2</td>\n",
       "      <td>95.8</td>\n",
       "    </tr>\n",
       "    <tr>\n",
       "      <th>3</th>\n",
       "      <td>3</td>\n",
       "      <td>Stanford University</td>\n",
       "      <td>2</td>\n",
       "      <td>-0.128691</td>\n",
       "      <td>-1.010016</td>\n",
       "      <td>1.083560</td>\n",
       "      <td>0.851852</td>\n",
       "      <td>94.8</td>\n",
       "      <td>94.2</td>\n",
       "      <td>96.7</td>\n",
       "      <td>99.8</td>\n",
       "      <td>65.0</td>\n",
       "      <td>79.8</td>\n",
       "    </tr>\n",
       "    <tr>\n",
       "      <th>4</th>\n",
       "      <td>5</td>\n",
       "      <td>Massachusetts Institute of Technology</td>\n",
       "      <td>2</td>\n",
       "      <td>-0.322514</td>\n",
       "      <td>-0.916656</td>\n",
       "      <td>1.771819</td>\n",
       "      <td>0.666667</td>\n",
       "      <td>94.2</td>\n",
       "      <td>90.7</td>\n",
       "      <td>93.6</td>\n",
       "      <td>99.8</td>\n",
       "      <td>90.9</td>\n",
       "      <td>89.3</td>\n",
       "    </tr>\n",
       "  </tbody>\n",
       "</table>\n",
       "</div>"
      ],
      "text/plain": [
       "  University Rank                     Name of University  Location  \\\n",
       "0               1                   University of Oxford         1   \n",
       "1               2                     Harvard University         2   \n",
       "2               3                University of Cambridge         1   \n",
       "3               3                    Stanford University         2   \n",
       "4               5  Massachusetts Institute of Technology         2   \n",
       "\n",
       "   No of student  No of student per staff  International Student  \\\n",
       "0       0.067255                -0.712963               2.460077   \n",
       "1       0.104885                -0.797835               1.160033   \n",
       "2       0.035421                -0.653552               2.230657   \n",
       "3      -0.128691                -1.010016               1.083560   \n",
       "4      -0.322514                -0.916656               1.771819   \n",
       "\n",
       "   Female:Male Ratio OverAll Score  Teaching Score  Research Score  \\\n",
       "0           0.923077          96.4            92.3            99.7   \n",
       "1           1.000000          95.2            94.8            99.0   \n",
       "2           0.886792          94.8            90.9            99.5   \n",
       "3           0.851852          94.8            94.2            96.7   \n",
       "4           0.666667          94.2            90.7            93.6   \n",
       "\n",
       "   Citations Score  Industry Income Score  International Outlook Score  \n",
       "0             99.0                   74.9                         96.2  \n",
       "1             99.3                   49.5                         80.5  \n",
       "2             97.0                   54.2                         95.8  \n",
       "3             99.8                   65.0                         79.8  \n",
       "4             99.8                   90.9                         89.3  "
      ]
     },
     "execution_count": 297,
     "metadata": {},
     "output_type": "execute_result"
    }
   ],
   "source": [
    "df[cols['male_fem_ratio']] = df[cols['male_fem_ratio']].apply(\n",
    "    lambda val: np.nan if isinstance(val, (float, int)) else float(val.replace(' ', '').split(':')[0]) / float(val.replace(' ', '').split(':')[1]) if ':' in val and float(val.replace(' ', '').split(':')[1]) != 0 else np.nan\n",
    ")\n",
    "df.head()\n"
   ]
  },
  {
   "cell_type": "markdown",
   "metadata": {},
   "source": [
    "- Limpiamos las columnas Teaching Score, Research Score, Citations Score, Industry Income Score e International Outlook Score y procedemos a hacer una Standardization para cada una.\n"
   ]
  },
  {
   "cell_type": "code",
   "execution_count": 298,
   "metadata": {},
   "outputs": [
    {
     "data": {
      "text/html": [
       "<div>\n",
       "<style scoped>\n",
       "    .dataframe tbody tr th:only-of-type {\n",
       "        vertical-align: middle;\n",
       "    }\n",
       "\n",
       "    .dataframe tbody tr th {\n",
       "        vertical-align: top;\n",
       "    }\n",
       "\n",
       "    .dataframe thead th {\n",
       "        text-align: right;\n",
       "    }\n",
       "</style>\n",
       "<table border=\"1\" class=\"dataframe\">\n",
       "  <thead>\n",
       "    <tr style=\"text-align: right;\">\n",
       "      <th></th>\n",
       "      <th>University Rank</th>\n",
       "      <th>Name of University</th>\n",
       "      <th>Location</th>\n",
       "      <th>No of student</th>\n",
       "      <th>No of student per staff</th>\n",
       "      <th>International Student</th>\n",
       "      <th>Female:Male Ratio</th>\n",
       "      <th>OverAll Score</th>\n",
       "      <th>Teaching Score</th>\n",
       "      <th>Research Score</th>\n",
       "      <th>Citations Score</th>\n",
       "      <th>Industry Income Score</th>\n",
       "      <th>International Outlook Score</th>\n",
       "    </tr>\n",
       "  </thead>\n",
       "  <tbody>\n",
       "    <tr>\n",
       "      <th>0</th>\n",
       "      <td>1</td>\n",
       "      <td>University of Oxford</td>\n",
       "      <td>1</td>\n",
       "      <td>0.067255</td>\n",
       "      <td>-0.712963</td>\n",
       "      <td>2.460077</td>\n",
       "      <td>0.923077</td>\n",
       "      <td>96.4</td>\n",
       "      <td>5.624489</td>\n",
       "      <td>5.235680</td>\n",
       "      <td>2.071837</td>\n",
       "      <td>2.168830</td>\n",
       "      <td>2.534302</td>\n",
       "    </tr>\n",
       "    <tr>\n",
       "      <th>1</th>\n",
       "      <td>2</td>\n",
       "      <td>Harvard University</td>\n",
       "      <td>2</td>\n",
       "      <td>0.104885</td>\n",
       "      <td>-0.797835</td>\n",
       "      <td>1.160033</td>\n",
       "      <td>1.000000</td>\n",
       "      <td>95.2</td>\n",
       "      <td>5.836632</td>\n",
       "      <td>5.188739</td>\n",
       "      <td>2.084071</td>\n",
       "      <td>0.290259</td>\n",
       "      <td>1.745260</td>\n",
       "    </tr>\n",
       "    <tr>\n",
       "      <th>2</th>\n",
       "      <td>3</td>\n",
       "      <td>University of Cambridge</td>\n",
       "      <td>1</td>\n",
       "      <td>0.035421</td>\n",
       "      <td>-0.653552</td>\n",
       "      <td>2.230657</td>\n",
       "      <td>0.886792</td>\n",
       "      <td>94.8</td>\n",
       "      <td>5.505689</td>\n",
       "      <td>5.222269</td>\n",
       "      <td>1.990275</td>\n",
       "      <td>0.637868</td>\n",
       "      <td>2.514199</td>\n",
       "    </tr>\n",
       "    <tr>\n",
       "      <th>3</th>\n",
       "      <td>3</td>\n",
       "      <td>Stanford University</td>\n",
       "      <td>2</td>\n",
       "      <td>-0.128691</td>\n",
       "      <td>-1.010016</td>\n",
       "      <td>1.083560</td>\n",
       "      <td>0.851852</td>\n",
       "      <td>94.8</td>\n",
       "      <td>5.785718</td>\n",
       "      <td>5.034505</td>\n",
       "      <td>2.104461</td>\n",
       "      <td>1.436631</td>\n",
       "      <td>1.710080</td>\n",
       "    </tr>\n",
       "    <tr>\n",
       "      <th>4</th>\n",
       "      <td>5</td>\n",
       "      <td>Massachusetts Institute of Technology</td>\n",
       "      <td>2</td>\n",
       "      <td>-0.322514</td>\n",
       "      <td>-0.916656</td>\n",
       "      <td>1.771819</td>\n",
       "      <td>0.666667</td>\n",
       "      <td>94.2</td>\n",
       "      <td>5.488717</td>\n",
       "      <td>4.826623</td>\n",
       "      <td>2.104461</td>\n",
       "      <td>3.352182</td>\n",
       "      <td>2.187526</td>\n",
       "    </tr>\n",
       "  </tbody>\n",
       "</table>\n",
       "</div>"
      ],
      "text/plain": [
       "  University Rank                     Name of University  Location  \\\n",
       "0               1                   University of Oxford         1   \n",
       "1               2                     Harvard University         2   \n",
       "2               3                University of Cambridge         1   \n",
       "3               3                    Stanford University         2   \n",
       "4               5  Massachusetts Institute of Technology         2   \n",
       "\n",
       "   No of student  No of student per staff  International Student  \\\n",
       "0       0.067255                -0.712963               2.460077   \n",
       "1       0.104885                -0.797835               1.160033   \n",
       "2       0.035421                -0.653552               2.230657   \n",
       "3      -0.128691                -1.010016               1.083560   \n",
       "4      -0.322514                -0.916656               1.771819   \n",
       "\n",
       "   Female:Male Ratio OverAll Score  Teaching Score  Research Score  \\\n",
       "0           0.923077          96.4        5.624489        5.235680   \n",
       "1           1.000000          95.2        5.836632        5.188739   \n",
       "2           0.886792          94.8        5.505689        5.222269   \n",
       "3           0.851852          94.8        5.785718        5.034505   \n",
       "4           0.666667          94.2        5.488717        4.826623   \n",
       "\n",
       "   Citations Score  Industry Income Score  International Outlook Score  \n",
       "0         2.071837               2.168830                     2.534302  \n",
       "1         2.084071               0.290259                     1.745260  \n",
       "2         1.990275               0.637868                     2.514199  \n",
       "3         2.104461               1.436631                     1.710080  \n",
       "4         2.104461               3.352182                     2.187526  "
      ]
     },
     "execution_count": 298,
     "metadata": {},
     "output_type": "execute_result"
    }
   ],
   "source": [
    "for score in ['teaching_score', 'research_score', 'citation_score', 'industry_score', 'inter_score']:\n",
    "    df[cols[score]] = pd.to_numeric(df[cols[score]], errors='coerce')\n",
    "    df[cols[score]] = df[cols[score]].fillna(df[cols[score]].median())\n",
    "    df[cols[score]] = (df[cols[score]] - df[cols[score]].mean()) / df[cols[score]].std()\n",
    "df.head()"
   ]
  },
  {
   "cell_type": "markdown",
   "metadata": {},
   "source": [
    "- La normalización de los datos asegura que las variables tengan la misma escala, esto es lo que plasmo en el Overall Score además de rellenar los datos faltantes."
   ]
  },
  {
   "cell_type": "code",
   "execution_count": 299,
   "metadata": {},
   "outputs": [
    {
     "data": {
      "text/html": [
       "<div>\n",
       "<style scoped>\n",
       "    .dataframe tbody tr th:only-of-type {\n",
       "        vertical-align: middle;\n",
       "    }\n",
       "\n",
       "    .dataframe tbody tr th {\n",
       "        vertical-align: top;\n",
       "    }\n",
       "\n",
       "    .dataframe thead th {\n",
       "        text-align: right;\n",
       "    }\n",
       "</style>\n",
       "<table border=\"1\" class=\"dataframe\">\n",
       "  <thead>\n",
       "    <tr style=\"text-align: right;\">\n",
       "      <th></th>\n",
       "      <th>University Rank</th>\n",
       "      <th>Name of University</th>\n",
       "      <th>Location</th>\n",
       "      <th>No of student</th>\n",
       "      <th>No of student per staff</th>\n",
       "      <th>International Student</th>\n",
       "      <th>Female:Male Ratio</th>\n",
       "      <th>OverAll Score</th>\n",
       "      <th>Teaching Score</th>\n",
       "      <th>Research Score</th>\n",
       "      <th>Citations Score</th>\n",
       "      <th>Industry Income Score</th>\n",
       "      <th>International Outlook Score</th>\n",
       "    </tr>\n",
       "  </thead>\n",
       "  <tbody>\n",
       "    <tr>\n",
       "      <th>0</th>\n",
       "      <td>1</td>\n",
       "      <td>University of Oxford</td>\n",
       "      <td>1</td>\n",
       "      <td>0.067255</td>\n",
       "      <td>-0.712963</td>\n",
       "      <td>2.460077</td>\n",
       "      <td>0.923077</td>\n",
       "      <td>4.419952</td>\n",
       "      <td>5.624489</td>\n",
       "      <td>5.235680</td>\n",
       "      <td>2.071837</td>\n",
       "      <td>2.168830</td>\n",
       "      <td>2.534302</td>\n",
       "    </tr>\n",
       "    <tr>\n",
       "      <th>1</th>\n",
       "      <td>2</td>\n",
       "      <td>Harvard University</td>\n",
       "      <td>2</td>\n",
       "      <td>0.104885</td>\n",
       "      <td>-0.797835</td>\n",
       "      <td>1.160033</td>\n",
       "      <td>1.000000</td>\n",
       "      <td>4.335454</td>\n",
       "      <td>5.836632</td>\n",
       "      <td>5.188739</td>\n",
       "      <td>2.084071</td>\n",
       "      <td>0.290259</td>\n",
       "      <td>1.745260</td>\n",
       "    </tr>\n",
       "    <tr>\n",
       "      <th>2</th>\n",
       "      <td>3</td>\n",
       "      <td>University of Cambridge</td>\n",
       "      <td>1</td>\n",
       "      <td>0.035421</td>\n",
       "      <td>-0.653552</td>\n",
       "      <td>2.230657</td>\n",
       "      <td>0.886792</td>\n",
       "      <td>4.307288</td>\n",
       "      <td>5.505689</td>\n",
       "      <td>5.222269</td>\n",
       "      <td>1.990275</td>\n",
       "      <td>0.637868</td>\n",
       "      <td>2.514199</td>\n",
       "    </tr>\n",
       "    <tr>\n",
       "      <th>3</th>\n",
       "      <td>3</td>\n",
       "      <td>Stanford University</td>\n",
       "      <td>2</td>\n",
       "      <td>-0.128691</td>\n",
       "      <td>-1.010016</td>\n",
       "      <td>1.083560</td>\n",
       "      <td>0.851852</td>\n",
       "      <td>4.307288</td>\n",
       "      <td>5.785718</td>\n",
       "      <td>5.034505</td>\n",
       "      <td>2.104461</td>\n",
       "      <td>1.436631</td>\n",
       "      <td>1.710080</td>\n",
       "    </tr>\n",
       "    <tr>\n",
       "      <th>4</th>\n",
       "      <td>5</td>\n",
       "      <td>Massachusetts Institute of Technology</td>\n",
       "      <td>2</td>\n",
       "      <td>-0.322514</td>\n",
       "      <td>-0.916656</td>\n",
       "      <td>1.771819</td>\n",
       "      <td>0.666667</td>\n",
       "      <td>4.265039</td>\n",
       "      <td>5.488717</td>\n",
       "      <td>4.826623</td>\n",
       "      <td>2.104461</td>\n",
       "      <td>3.352182</td>\n",
       "      <td>2.187526</td>\n",
       "    </tr>\n",
       "  </tbody>\n",
       "</table>\n",
       "</div>"
      ],
      "text/plain": [
       "  University Rank                     Name of University  Location  \\\n",
       "0               1                   University of Oxford         1   \n",
       "1               2                     Harvard University         2   \n",
       "2               3                University of Cambridge         1   \n",
       "3               3                    Stanford University         2   \n",
       "4               5  Massachusetts Institute of Technology         2   \n",
       "\n",
       "   No of student  No of student per staff  International Student  \\\n",
       "0       0.067255                -0.712963               2.460077   \n",
       "1       0.104885                -0.797835               1.160033   \n",
       "2       0.035421                -0.653552               2.230657   \n",
       "3      -0.128691                -1.010016               1.083560   \n",
       "4      -0.322514                -0.916656               1.771819   \n",
       "\n",
       "   Female:Male Ratio  OverAll Score  Teaching Score  Research Score  \\\n",
       "0           0.923077       4.419952        5.624489        5.235680   \n",
       "1           1.000000       4.335454        5.836632        5.188739   \n",
       "2           0.886792       4.307288        5.505689        5.222269   \n",
       "3           0.851852       4.307288        5.785718        5.034505   \n",
       "4           0.666667       4.265039        5.488717        4.826623   \n",
       "\n",
       "   Citations Score  Industry Income Score  International Outlook Score  \n",
       "0         2.071837               2.168830                     2.534302  \n",
       "1         2.084071               0.290259                     1.745260  \n",
       "2         1.990275               0.637868                     2.514199  \n",
       "3         2.104461               1.436631                     1.710080  \n",
       "4         2.104461               3.352182                     2.187526  "
      ]
     },
     "execution_count": 299,
     "metadata": {},
     "output_type": "execute_result"
    }
   ],
   "source": [
    "\n",
    "df[cols['overall_score_p']] = df[cols['overall_score_p']].apply( lambda x: (float(x.split('–')[0]) + float(x.split('–')[1])) / 2 \n",
    "                                                                                                                 if isinstance(x, str) and '–' in x\n",
    "                                                                                                                else float(x) if isinstance(x, str) else x)\n",
    "df[cols['overall_score_p']] = df[cols['overall_score_p']].fillna(df[cols['overall_score_p']].median())\n",
    "df[cols['overall_score_p']] = (df[cols['overall_score_p']] - df[cols['overall_score_p']].mean()) / df[cols['overall_score_p']].std()\n",
    "df.head()\n"
   ]
  },
  {
   "cell_type": "markdown",
   "metadata": {},
   "source": [
    "- El nombre de las universidades es irrelevante para realizar algún tipo de cálculo"
   ]
  },
  {
   "cell_type": "code",
   "execution_count": 300,
   "metadata": {},
   "outputs": [
    {
     "data": {
      "text/html": [
       "<div>\n",
       "<style scoped>\n",
       "    .dataframe tbody tr th:only-of-type {\n",
       "        vertical-align: middle;\n",
       "    }\n",
       "\n",
       "    .dataframe tbody tr th {\n",
       "        vertical-align: top;\n",
       "    }\n",
       "\n",
       "    .dataframe thead th {\n",
       "        text-align: right;\n",
       "    }\n",
       "</style>\n",
       "<table border=\"1\" class=\"dataframe\">\n",
       "  <thead>\n",
       "    <tr style=\"text-align: right;\">\n",
       "      <th></th>\n",
       "      <th>University Rank</th>\n",
       "      <th>Location</th>\n",
       "      <th>No of student</th>\n",
       "      <th>No of student per staff</th>\n",
       "      <th>International Student</th>\n",
       "      <th>Female:Male Ratio</th>\n",
       "      <th>OverAll Score</th>\n",
       "      <th>Teaching Score</th>\n",
       "      <th>Research Score</th>\n",
       "      <th>Citations Score</th>\n",
       "      <th>Industry Income Score</th>\n",
       "      <th>International Outlook Score</th>\n",
       "    </tr>\n",
       "  </thead>\n",
       "  <tbody>\n",
       "    <tr>\n",
       "      <th>0</th>\n",
       "      <td>1</td>\n",
       "      <td>1</td>\n",
       "      <td>0.067255</td>\n",
       "      <td>-0.712963</td>\n",
       "      <td>2.460077</td>\n",
       "      <td>0.923077</td>\n",
       "      <td>4.419952</td>\n",
       "      <td>5.624489</td>\n",
       "      <td>5.235680</td>\n",
       "      <td>2.071837</td>\n",
       "      <td>2.168830</td>\n",
       "      <td>2.534302</td>\n",
       "    </tr>\n",
       "    <tr>\n",
       "      <th>1</th>\n",
       "      <td>2</td>\n",
       "      <td>2</td>\n",
       "      <td>0.104885</td>\n",
       "      <td>-0.797835</td>\n",
       "      <td>1.160033</td>\n",
       "      <td>1.000000</td>\n",
       "      <td>4.335454</td>\n",
       "      <td>5.836632</td>\n",
       "      <td>5.188739</td>\n",
       "      <td>2.084071</td>\n",
       "      <td>0.290259</td>\n",
       "      <td>1.745260</td>\n",
       "    </tr>\n",
       "    <tr>\n",
       "      <th>2</th>\n",
       "      <td>3</td>\n",
       "      <td>1</td>\n",
       "      <td>0.035421</td>\n",
       "      <td>-0.653552</td>\n",
       "      <td>2.230657</td>\n",
       "      <td>0.886792</td>\n",
       "      <td>4.307288</td>\n",
       "      <td>5.505689</td>\n",
       "      <td>5.222269</td>\n",
       "      <td>1.990275</td>\n",
       "      <td>0.637868</td>\n",
       "      <td>2.514199</td>\n",
       "    </tr>\n",
       "    <tr>\n",
       "      <th>3</th>\n",
       "      <td>3</td>\n",
       "      <td>2</td>\n",
       "      <td>-0.128691</td>\n",
       "      <td>-1.010016</td>\n",
       "      <td>1.083560</td>\n",
       "      <td>0.851852</td>\n",
       "      <td>4.307288</td>\n",
       "      <td>5.785718</td>\n",
       "      <td>5.034505</td>\n",
       "      <td>2.104461</td>\n",
       "      <td>1.436631</td>\n",
       "      <td>1.710080</td>\n",
       "    </tr>\n",
       "    <tr>\n",
       "      <th>4</th>\n",
       "      <td>5</td>\n",
       "      <td>2</td>\n",
       "      <td>-0.322514</td>\n",
       "      <td>-0.916656</td>\n",
       "      <td>1.771819</td>\n",
       "      <td>0.666667</td>\n",
       "      <td>4.265039</td>\n",
       "      <td>5.488717</td>\n",
       "      <td>4.826623</td>\n",
       "      <td>2.104461</td>\n",
       "      <td>3.352182</td>\n",
       "      <td>2.187526</td>\n",
       "    </tr>\n",
       "  </tbody>\n",
       "</table>\n",
       "</div>"
      ],
      "text/plain": [
       "  University Rank  Location  No of student  No of student per staff  \\\n",
       "0               1         1       0.067255                -0.712963   \n",
       "1               2         2       0.104885                -0.797835   \n",
       "2               3         1       0.035421                -0.653552   \n",
       "3               3         2      -0.128691                -1.010016   \n",
       "4               5         2      -0.322514                -0.916656   \n",
       "\n",
       "   International Student  Female:Male Ratio  OverAll Score  Teaching Score  \\\n",
       "0               2.460077           0.923077       4.419952        5.624489   \n",
       "1               1.160033           1.000000       4.335454        5.836632   \n",
       "2               2.230657           0.886792       4.307288        5.505689   \n",
       "3               1.083560           0.851852       4.307288        5.785718   \n",
       "4               1.771819           0.666667       4.265039        5.488717   \n",
       "\n",
       "   Research Score  Citations Score  Industry Income Score  \\\n",
       "0        5.235680         2.071837               2.168830   \n",
       "1        5.188739         2.084071               0.290259   \n",
       "2        5.222269         1.990275               0.637868   \n",
       "3        5.034505         2.104461               1.436631   \n",
       "4        4.826623         2.104461               3.352182   \n",
       "\n",
       "   International Outlook Score  \n",
       "0                     2.534302  \n",
       "1                     1.745260  \n",
       "2                     2.514199  \n",
       "3                     1.710080  \n",
       "4                     2.187526  "
      ]
     },
     "execution_count": 300,
     "metadata": {},
     "output_type": "execute_result"
    }
   ],
   "source": [
    "df = df.drop(columns=[cols['Uni_name']])\n",
    "df.head()"
   ]
  },
  {
   "cell_type": "markdown",
   "metadata": {},
   "source": [
    "- La siguiente gráfica nos da un preprocesamiento interesante, indica la cantidad de Universidades por Ubicación lo que nos da una idea de dónde por lo general se encuentran las mejores universidades del mundo"
   ]
  },
  {
   "cell_type": "code",
   "execution_count": 301,
   "metadata": {},
   "outputs": [
    {
     "data": {
      "application/vnd.plotly.v1+json": {
       "config": {
        "plotlyServerURL": "https://plot.ly"
       },
       "data": [
        {
         "alignmentgroup": "True",
         "hovertemplate": "Location=%{x}<br>y=%{y}<extra></extra>",
         "legendgroup": "",
         "marker": {
          "color": "#636efa",
          "pattern": {
           "shape": ""
          }
         },
         "name": "",
         "offsetgroup": "",
         "orientation": "v",
         "showlegend": false,
         "textposition": "auto",
         "type": "bar",
         "x": [
          4,
          2,
          8,
          1,
          30,
          11,
          41,
          26,
          37,
          21,
          45,
          48,
          22,
          14,
          61,
          9,
          40,
          29,
          39,
          101,
          49,
          66,
          47,
          72,
          79,
          6,
          44,
          94,
          50,
          23,
          38,
          12,
          5,
          51,
          42,
          36,
          64,
          3,
          89,
          10,
          56,
          18,
          52,
          87,
          83,
          85,
          15,
          16,
          27,
          13,
          35,
          81,
          34,
          17,
          31,
          28,
          58,
          19,
          20,
          98,
          69,
          102,
          78,
          95,
          43,
          73,
          82,
          113,
          71,
          97,
          74,
          70,
          57,
          55,
          91,
          96,
          53,
          62,
          60,
          67,
          75,
          80,
          33,
          46,
          84,
          65,
          68,
          24,
          25,
          32,
          54,
          63,
          76,
          93,
          77,
          86,
          88,
          90,
          92,
          7,
          107,
          99,
          59,
          112,
          115,
          111,
          110,
          100,
          114,
          109,
          103,
          116,
          104,
          105,
          108,
          106,
          117
         ],
         "xaxis": "x",
         "y": [
          294,
          173,
          150,
          149,
          91,
          82,
          75,
          73,
          63,
          57,
          56,
          55,
          51,
          45,
          44,
          44,
          40,
          39,
          34,
          29,
          28,
          27,
          26,
          25,
          25,
          25,
          24,
          23,
          22,
          21,
          20,
          20,
          19,
          19,
          18,
          16,
          15,
          14,
          13,
          13,
          12,
          12,
          10,
          10,
          10,
          9,
          9,
          8,
          8,
          8,
          8,
          8,
          7,
          7,
          7,
          6,
          6,
          6,
          6,
          6,
          6,
          6,
          6,
          5,
          5,
          5,
          5,
          4,
          4,
          4,
          4,
          4,
          3,
          3,
          3,
          3,
          3,
          2,
          2,
          2,
          2,
          2,
          2,
          2,
          2,
          1,
          1,
          1,
          1,
          1,
          1,
          1,
          1,
          1,
          1,
          1,
          1,
          1,
          1,
          1,
          1,
          1,
          1,
          1,
          1,
          1,
          1,
          1,
          1,
          1,
          1,
          1,
          1,
          1,
          1,
          1,
          1
         ],
         "yaxis": "y"
        }
       ],
       "layout": {
        "barmode": "relative",
        "legend": {
         "tracegroupgap": 0
        },
        "margin": {
         "t": 60
        },
        "showlegend": false,
        "template": {
         "data": {
          "bar": [
           {
            "error_x": {
             "color": "#2a3f5f"
            },
            "error_y": {
             "color": "#2a3f5f"
            },
            "marker": {
             "line": {
              "color": "#E5ECF6",
              "width": 0.5
             },
             "pattern": {
              "fillmode": "overlay",
              "size": 10,
              "solidity": 0.2
             }
            },
            "type": "bar"
           }
          ],
          "barpolar": [
           {
            "marker": {
             "line": {
              "color": "#E5ECF6",
              "width": 0.5
             },
             "pattern": {
              "fillmode": "overlay",
              "size": 10,
              "solidity": 0.2
             }
            },
            "type": "barpolar"
           }
          ],
          "carpet": [
           {
            "aaxis": {
             "endlinecolor": "#2a3f5f",
             "gridcolor": "white",
             "linecolor": "white",
             "minorgridcolor": "white",
             "startlinecolor": "#2a3f5f"
            },
            "baxis": {
             "endlinecolor": "#2a3f5f",
             "gridcolor": "white",
             "linecolor": "white",
             "minorgridcolor": "white",
             "startlinecolor": "#2a3f5f"
            },
            "type": "carpet"
           }
          ],
          "choropleth": [
           {
            "colorbar": {
             "outlinewidth": 0,
             "ticks": ""
            },
            "type": "choropleth"
           }
          ],
          "contour": [
           {
            "colorbar": {
             "outlinewidth": 0,
             "ticks": ""
            },
            "colorscale": [
             [
              0,
              "#0d0887"
             ],
             [
              0.1111111111111111,
              "#46039f"
             ],
             [
              0.2222222222222222,
              "#7201a8"
             ],
             [
              0.3333333333333333,
              "#9c179e"
             ],
             [
              0.4444444444444444,
              "#bd3786"
             ],
             [
              0.5555555555555556,
              "#d8576b"
             ],
             [
              0.6666666666666666,
              "#ed7953"
             ],
             [
              0.7777777777777778,
              "#fb9f3a"
             ],
             [
              0.8888888888888888,
              "#fdca26"
             ],
             [
              1,
              "#f0f921"
             ]
            ],
            "type": "contour"
           }
          ],
          "contourcarpet": [
           {
            "colorbar": {
             "outlinewidth": 0,
             "ticks": ""
            },
            "type": "contourcarpet"
           }
          ],
          "heatmap": [
           {
            "colorbar": {
             "outlinewidth": 0,
             "ticks": ""
            },
            "colorscale": [
             [
              0,
              "#0d0887"
             ],
             [
              0.1111111111111111,
              "#46039f"
             ],
             [
              0.2222222222222222,
              "#7201a8"
             ],
             [
              0.3333333333333333,
              "#9c179e"
             ],
             [
              0.4444444444444444,
              "#bd3786"
             ],
             [
              0.5555555555555556,
              "#d8576b"
             ],
             [
              0.6666666666666666,
              "#ed7953"
             ],
             [
              0.7777777777777778,
              "#fb9f3a"
             ],
             [
              0.8888888888888888,
              "#fdca26"
             ],
             [
              1,
              "#f0f921"
             ]
            ],
            "type": "heatmap"
           }
          ],
          "heatmapgl": [
           {
            "colorbar": {
             "outlinewidth": 0,
             "ticks": ""
            },
            "colorscale": [
             [
              0,
              "#0d0887"
             ],
             [
              0.1111111111111111,
              "#46039f"
             ],
             [
              0.2222222222222222,
              "#7201a8"
             ],
             [
              0.3333333333333333,
              "#9c179e"
             ],
             [
              0.4444444444444444,
              "#bd3786"
             ],
             [
              0.5555555555555556,
              "#d8576b"
             ],
             [
              0.6666666666666666,
              "#ed7953"
             ],
             [
              0.7777777777777778,
              "#fb9f3a"
             ],
             [
              0.8888888888888888,
              "#fdca26"
             ],
             [
              1,
              "#f0f921"
             ]
            ],
            "type": "heatmapgl"
           }
          ],
          "histogram": [
           {
            "marker": {
             "pattern": {
              "fillmode": "overlay",
              "size": 10,
              "solidity": 0.2
             }
            },
            "type": "histogram"
           }
          ],
          "histogram2d": [
           {
            "colorbar": {
             "outlinewidth": 0,
             "ticks": ""
            },
            "colorscale": [
             [
              0,
              "#0d0887"
             ],
             [
              0.1111111111111111,
              "#46039f"
             ],
             [
              0.2222222222222222,
              "#7201a8"
             ],
             [
              0.3333333333333333,
              "#9c179e"
             ],
             [
              0.4444444444444444,
              "#bd3786"
             ],
             [
              0.5555555555555556,
              "#d8576b"
             ],
             [
              0.6666666666666666,
              "#ed7953"
             ],
             [
              0.7777777777777778,
              "#fb9f3a"
             ],
             [
              0.8888888888888888,
              "#fdca26"
             ],
             [
              1,
              "#f0f921"
             ]
            ],
            "type": "histogram2d"
           }
          ],
          "histogram2dcontour": [
           {
            "colorbar": {
             "outlinewidth": 0,
             "ticks": ""
            },
            "colorscale": [
             [
              0,
              "#0d0887"
             ],
             [
              0.1111111111111111,
              "#46039f"
             ],
             [
              0.2222222222222222,
              "#7201a8"
             ],
             [
              0.3333333333333333,
              "#9c179e"
             ],
             [
              0.4444444444444444,
              "#bd3786"
             ],
             [
              0.5555555555555556,
              "#d8576b"
             ],
             [
              0.6666666666666666,
              "#ed7953"
             ],
             [
              0.7777777777777778,
              "#fb9f3a"
             ],
             [
              0.8888888888888888,
              "#fdca26"
             ],
             [
              1,
              "#f0f921"
             ]
            ],
            "type": "histogram2dcontour"
           }
          ],
          "mesh3d": [
           {
            "colorbar": {
             "outlinewidth": 0,
             "ticks": ""
            },
            "type": "mesh3d"
           }
          ],
          "parcoords": [
           {
            "line": {
             "colorbar": {
              "outlinewidth": 0,
              "ticks": ""
             }
            },
            "type": "parcoords"
           }
          ],
          "pie": [
           {
            "automargin": true,
            "type": "pie"
           }
          ],
          "scatter": [
           {
            "fillpattern": {
             "fillmode": "overlay",
             "size": 10,
             "solidity": 0.2
            },
            "type": "scatter"
           }
          ],
          "scatter3d": [
           {
            "line": {
             "colorbar": {
              "outlinewidth": 0,
              "ticks": ""
             }
            },
            "marker": {
             "colorbar": {
              "outlinewidth": 0,
              "ticks": ""
             }
            },
            "type": "scatter3d"
           }
          ],
          "scattercarpet": [
           {
            "marker": {
             "colorbar": {
              "outlinewidth": 0,
              "ticks": ""
             }
            },
            "type": "scattercarpet"
           }
          ],
          "scattergeo": [
           {
            "marker": {
             "colorbar": {
              "outlinewidth": 0,
              "ticks": ""
             }
            },
            "type": "scattergeo"
           }
          ],
          "scattergl": [
           {
            "marker": {
             "colorbar": {
              "outlinewidth": 0,
              "ticks": ""
             }
            },
            "type": "scattergl"
           }
          ],
          "scattermapbox": [
           {
            "marker": {
             "colorbar": {
              "outlinewidth": 0,
              "ticks": ""
             }
            },
            "type": "scattermapbox"
           }
          ],
          "scatterpolar": [
           {
            "marker": {
             "colorbar": {
              "outlinewidth": 0,
              "ticks": ""
             }
            },
            "type": "scatterpolar"
           }
          ],
          "scatterpolargl": [
           {
            "marker": {
             "colorbar": {
              "outlinewidth": 0,
              "ticks": ""
             }
            },
            "type": "scatterpolargl"
           }
          ],
          "scatterternary": [
           {
            "marker": {
             "colorbar": {
              "outlinewidth": 0,
              "ticks": ""
             }
            },
            "type": "scatterternary"
           }
          ],
          "surface": [
           {
            "colorbar": {
             "outlinewidth": 0,
             "ticks": ""
            },
            "colorscale": [
             [
              0,
              "#0d0887"
             ],
             [
              0.1111111111111111,
              "#46039f"
             ],
             [
              0.2222222222222222,
              "#7201a8"
             ],
             [
              0.3333333333333333,
              "#9c179e"
             ],
             [
              0.4444444444444444,
              "#bd3786"
             ],
             [
              0.5555555555555556,
              "#d8576b"
             ],
             [
              0.6666666666666666,
              "#ed7953"
             ],
             [
              0.7777777777777778,
              "#fb9f3a"
             ],
             [
              0.8888888888888888,
              "#fdca26"
             ],
             [
              1,
              "#f0f921"
             ]
            ],
            "type": "surface"
           }
          ],
          "table": [
           {
            "cells": {
             "fill": {
              "color": "#EBF0F8"
             },
             "line": {
              "color": "white"
             }
            },
            "header": {
             "fill": {
              "color": "#C8D4E3"
             },
             "line": {
              "color": "white"
             }
            },
            "type": "table"
           }
          ]
         },
         "layout": {
          "annotationdefaults": {
           "arrowcolor": "#2a3f5f",
           "arrowhead": 0,
           "arrowwidth": 1
          },
          "autotypenumbers": "strict",
          "coloraxis": {
           "colorbar": {
            "outlinewidth": 0,
            "ticks": ""
           }
          },
          "colorscale": {
           "diverging": [
            [
             0,
             "#8e0152"
            ],
            [
             0.1,
             "#c51b7d"
            ],
            [
             0.2,
             "#de77ae"
            ],
            [
             0.3,
             "#f1b6da"
            ],
            [
             0.4,
             "#fde0ef"
            ],
            [
             0.5,
             "#f7f7f7"
            ],
            [
             0.6,
             "#e6f5d0"
            ],
            [
             0.7,
             "#b8e186"
            ],
            [
             0.8,
             "#7fbc41"
            ],
            [
             0.9,
             "#4d9221"
            ],
            [
             1,
             "#276419"
            ]
           ],
           "sequential": [
            [
             0,
             "#0d0887"
            ],
            [
             0.1111111111111111,
             "#46039f"
            ],
            [
             0.2222222222222222,
             "#7201a8"
            ],
            [
             0.3333333333333333,
             "#9c179e"
            ],
            [
             0.4444444444444444,
             "#bd3786"
            ],
            [
             0.5555555555555556,
             "#d8576b"
            ],
            [
             0.6666666666666666,
             "#ed7953"
            ],
            [
             0.7777777777777778,
             "#fb9f3a"
            ],
            [
             0.8888888888888888,
             "#fdca26"
            ],
            [
             1,
             "#f0f921"
            ]
           ],
           "sequentialminus": [
            [
             0,
             "#0d0887"
            ],
            [
             0.1111111111111111,
             "#46039f"
            ],
            [
             0.2222222222222222,
             "#7201a8"
            ],
            [
             0.3333333333333333,
             "#9c179e"
            ],
            [
             0.4444444444444444,
             "#bd3786"
            ],
            [
             0.5555555555555556,
             "#d8576b"
            ],
            [
             0.6666666666666666,
             "#ed7953"
            ],
            [
             0.7777777777777778,
             "#fb9f3a"
            ],
            [
             0.8888888888888888,
             "#fdca26"
            ],
            [
             1,
             "#f0f921"
            ]
           ]
          },
          "colorway": [
           "#636efa",
           "#EF553B",
           "#00cc96",
           "#ab63fa",
           "#FFA15A",
           "#19d3f3",
           "#FF6692",
           "#B6E880",
           "#FF97FF",
           "#FECB52"
          ],
          "font": {
           "color": "#2a3f5f"
          },
          "geo": {
           "bgcolor": "white",
           "lakecolor": "white",
           "landcolor": "#E5ECF6",
           "showlakes": true,
           "showland": true,
           "subunitcolor": "white"
          },
          "hoverlabel": {
           "align": "left"
          },
          "hovermode": "closest",
          "mapbox": {
           "style": "light"
          },
          "paper_bgcolor": "white",
          "plot_bgcolor": "#E5ECF6",
          "polar": {
           "angularaxis": {
            "gridcolor": "white",
            "linecolor": "white",
            "ticks": ""
           },
           "bgcolor": "#E5ECF6",
           "radialaxis": {
            "gridcolor": "white",
            "linecolor": "white",
            "ticks": ""
           }
          },
          "scene": {
           "xaxis": {
            "backgroundcolor": "#E5ECF6",
            "gridcolor": "white",
            "gridwidth": 2,
            "linecolor": "white",
            "showbackground": true,
            "ticks": "",
            "zerolinecolor": "white"
           },
           "yaxis": {
            "backgroundcolor": "#E5ECF6",
            "gridcolor": "white",
            "gridwidth": 2,
            "linecolor": "white",
            "showbackground": true,
            "ticks": "",
            "zerolinecolor": "white"
           },
           "zaxis": {
            "backgroundcolor": "#E5ECF6",
            "gridcolor": "white",
            "gridwidth": 2,
            "linecolor": "white",
            "showbackground": true,
            "ticks": "",
            "zerolinecolor": "white"
           }
          },
          "shapedefaults": {
           "line": {
            "color": "#2a3f5f"
           }
          },
          "ternary": {
           "aaxis": {
            "gridcolor": "white",
            "linecolor": "white",
            "ticks": ""
           },
           "baxis": {
            "gridcolor": "white",
            "linecolor": "white",
            "ticks": ""
           },
           "bgcolor": "#E5ECF6",
           "caxis": {
            "gridcolor": "white",
            "linecolor": "white",
            "ticks": ""
           }
          },
          "title": {
           "x": 0.05
          },
          "xaxis": {
           "automargin": true,
           "gridcolor": "white",
           "linecolor": "white",
           "ticks": "",
           "title": {
            "standoff": 15
           },
           "zerolinecolor": "white",
           "zerolinewidth": 2
          },
          "yaxis": {
           "automargin": true,
           "gridcolor": "white",
           "linecolor": "white",
           "ticks": "",
           "title": {
            "standoff": 15
           },
           "zerolinecolor": "white",
           "zerolinewidth": 2
          }
         }
        },
        "title": {
         "text": "Número de Universidades por Ubicación"
        },
        "xaxis": {
         "anchor": "y",
         "domain": [
          0,
          1
         ],
         "tickangle": -45,
         "title": {
          "text": "Ubicación"
         }
        },
        "yaxis": {
         "anchor": "x",
         "domain": [
          0,
          1
         ],
         "title": {
          "text": "Conteo"
         }
        }
       }
      }
     },
     "metadata": {},
     "output_type": "display_data"
    }
   ],
   "source": [
    "import plotly.express as px\n",
    "location_counts = df['Location'].value_counts()\n",
    "sorted_locations = location_counts.sort_values(ascending=False)\n",
    "df[cols['Uni_rank']] = pd.to_numeric(df[cols['Uni_rank']], errors='coerce')\n",
    "\n",
    "fig = px.bar(sorted_locations, x=sorted_locations.index, y=sorted_locations.values)\n",
    "fig.update_layout(\n",
    "    title=\"Número de Universidades por Ubicación\",\n",
    "    xaxis_title=\"Ubicación\",\n",
    "    yaxis_title=\"Conteo\",\n",
    "    xaxis_tickangle=-45,\n",
    "    showlegend=False\n",
    ")\n",
    "fig.show()\n",
    "mean_ranks = df.groupby('Location')['University Rank'].mean()\n",
    "def onclick(trace, points, state):\n",
    "    location = points.xs[0]\n",
    "    mean_rank = mean_ranks.loc[location]\n",
    "    print(f\"El ranking de media de universidades en {location} es {mean_rank:.2f}\")\n",
    "fig.data[0].on_click(onclick)\n",
    "\n"
   ]
  }
 ],
 "metadata": {
  "kernelspec": {
   "display_name": "Python 3",
   "language": "python",
   "name": "python3"
  },
  "language_info": {
   "codemirror_mode": {
    "name": "ipython",
    "version": 3
   },
   "file_extension": ".py",
   "mimetype": "text/x-python",
   "name": "python",
   "nbconvert_exporter": "python",
   "pygments_lexer": "ipython3",
   "version": "3.10.6"
  }
 },
 "nbformat": 4,
 "nbformat_minor": 2
}
